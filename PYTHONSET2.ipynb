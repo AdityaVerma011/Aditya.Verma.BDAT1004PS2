{
 "cells": [
  {
   "cell_type": "markdown",
   "id": "7afd7dc3",
   "metadata": {},
   "source": [
    "## Question 1"
   ]
  },
  {
   "cell_type": "code",
   "execution_count": 4,
   "id": "cc211385",
   "metadata": {},
   "outputs": [
    {
     "data": {
      "text/plain": [
       "6"
      ]
     },
     "execution_count": 4,
     "metadata": {},
     "output_type": "execute_result"
    }
   ],
   "source": [
    "a = 0\n",
    "\n",
    "def b():\n",
    "    global a\n",
    "    a = c(a)\n",
    "    \n",
    "def c(a):\n",
    "    return a + 2\n",
    "\n",
    "# The function b is executed and the variable 'a' is set to global, \n",
    "# then the function c is executed to increment the value of 'a' to 2.\n",
    "b()\n",
    "\n",
    "# The function b is executed again, 'a' is set to global, and \n",
    "# the function c is executed to increment the value of 'a' to 4.\n",
    "b()\n",
    "\n",
    "# The function b is executed for the third time, 'a' is set to global, \n",
    "# and the function c is executed to increment the value of 'a' to 6.\n",
    "b()\n",
    "\n",
    "# The value of 'a' should now be 6 and it is printed as output.\n",
    "print(a)\n",
    "\n"
   ]
  },
  {
   "cell_type": "markdown",
   "id": "00410db9",
   "metadata": {},
   "source": [
    "## Question 2\n",
    "\n",
    "Function fileLength(), given to you, takes the name of a file as input and returnsthe length of the file:>>> fileLength('midterm.py')284>>> fileLength('idterm.py')Traceback (most recent call last):File \"<pyshell#34>\", line 1, in <module>fileLength('idterm.py')File \"/Users/me/midterm.py\", line 3, in fileLengthinfile = open(filename)FileNotFoundError: [Errno 2] No such file or directory:'idterm.py'As shown above, if the file cannot be found by the interpreter or if it cannot be readas a text file, an exception will be raised. Modify function fileLength() so that afriendly message is printed instead:>>> fileLength('midterm.py')358>>> fileLength('idterm.py')File idterm.py not found."
   ]
  },
  {
   "cell_type": "code",
   "execution_count": 3,
   "id": "fa4a179c",
   "metadata": {},
   "outputs": [
    {
     "name": "stdout",
     "output_type": "stream",
     "text": [
      "File Filelength.txt not found.\n",
      "File idterm.py not found.\n"
     ]
    }
   ],
   "source": [
    "def file_length(file_name):\n",
    "    try:\n",
    "        with open(file_name, 'r') as file:\n",
    "            contents = file.read()\n",
    "            print(len(contents))\n",
    "    except FileNotFoundError:\n",
    "        print(f\"File {file_name} not found.\")\n",
    "    except Exception as e:\n",
    "        print(f\"An error occurred: {e}\")\n",
    "\n",
    "# Example usage:\n",
    "file_length('midterm.py')\n",
    "file_length('idterm.py')\n"
   ]
  },
  {
   "cell_type": "markdown",
   "id": "08c72f60",
   "metadata": {},
   "source": [
    "## Question 3\n",
    "\n",
    "Write a class named Marsupial that can be used as shown below:\n",
    ">>> m = Marsupial()\n",
    ">>> m.put_in_pouch('doll')\n",
    ">>> m.put_in_pouch('firetruck')\n",
    ">>> m.put_in_pouch('kitten')\n",
    ">>> m.pouch_contents()\n",
    "['doll', 'firetruck', 'kitten']\n",
    "\n",
    "Now write a class named Kangaroo as a subclass of Marsupial that inherits all the\n",
    "attributes of Marsupial and also:\n",
    "a. extends the Marsupial __init__ constructor to take, as input, the\n",
    "coordinates x and y of the Kangaroo object,\n",
    "b. supports method jump that takes number values dx and dy as input and\n",
    "moves the kangaroo by dx units along the x-axis and by dy units along the yaxis, and\n",
    "c. overloads the __str__ operator so it behaves as shown below.\n",
    ">>> k = Kangaroo(0,0)\n",
    ">>> print(k)\n",
    "I am a Kangaroo located at coordinates (0,0)\n",
    ">>> k.put_in_pouch('doll')\n",
    ">>> k.put_in_pouch('firetruck')\n",
    ">>> k.put_in_pouch('kitten')\n",
    ">>> k.pouch_contents()\n",
    "['doll', 'firetruck', 'kitten']\n",
    ">>> k.jump(1,0)\n",
    ">>> k.jump(1,0)\n",
    ">>> k.jump(1,0)\n",
    ">>> print(k)\n",
    "I am a Kangaroo located at coordinates (3,0)"
   ]
  },
  {
   "cell_type": "code",
   "execution_count": 17,
   "id": "70013df1",
   "metadata": {},
   "outputs": [
    {
     "name": "stdout",
     "output_type": "stream",
     "text": [
      "['doll', 'firetruck', 'kitten']\n",
      "I am a Kangaroo located at coordinates (0,0)\n",
      "['doll', 'firetruck', 'kitten']\n",
      "I am a Kangaroo located at coordinates (3,0)\n"
     ]
    }
   ],
   "source": [
    "class Marsupial:\n",
    "    def __init__(self):\n",
    "        self.pouch = []\n",
    "\n",
    "    def put_in_pouch(self, item):\n",
    "        self.pouch.append(item)\n",
    "\n",
    "    def pouch_contents(self):\n",
    "        return self.pouch\n",
    "\n",
    "\n",
    "class Kangaroo(Marsupial):\n",
    "    def __init__(self, x, y):\n",
    "        super().__init__()\n",
    "        self.x = x\n",
    "        self.y = y\n",
    "\n",
    "    def jump(self, dx, dy):\n",
    "        self.x += dx\n",
    "        self.y += dy\n",
    "\n",
    "    def __str__(self):\n",
    "        return f\"I am a Kangaroo located at coordinates ({self.x},{self.y})\"\n",
    "\n",
    "m = Marsupial()\n",
    "m.put_in_pouch('doll')\n",
    "m.put_in_pouch('firetruck')\n",
    "m.put_in_pouch('kitten')\n",
    "#print(m.pouch_contents())\n",
    "print(m.pouch_contents())\n",
    "\n",
    "\n",
    "k = Kangaroo(0, 0)\n",
    "print(k)\n",
    "\n",
    "k.put_in_pouch('doll')\n",
    "k.put_in_pouch('firetruck')\n",
    "k.put_in_pouch('kitten')\n",
    "print(k.pouch_contents())\n",
    "\n",
    "k.jump(1, 0)\n",
    "k.jump(1, 0)\n",
    "k.jump(1, 0)\n",
    "print(k)\n"
   ]
  },
  {
   "cell_type": "markdown",
   "id": "067f94df",
   "metadata": {},
   "source": [
    "## Question 4\n",
    "\n",
    "Write function collatz() that takes a positive integer x as input and prints the\n",
    "Collatz sequence starting at x. A Collatz sequence is obtained by repeatedly applying\n",
    "this rule to the previous number x in the sequence:\n",
    "x = {\n",
    "𝑥/2 𝑖𝑓 𝑥 𝑖𝑠 𝑒𝑣𝑒𝑛\n",
    "3𝑥 + 1 𝑖𝑓 𝑥 𝑖𝑠 𝑜𝑑𝑑\n",
    "Your function should stop when the sequence gets to number 1. Your\n",
    "implementation must be recursive, without any loops."
   ]
  },
  {
   "cell_type": "code",
   "execution_count": 18,
   "id": "68171a3d",
   "metadata": {},
   "outputs": [
    {
     "name": "stdout",
     "output_type": "stream",
     "text": [
      "10\n",
      "5\n",
      "16\n",
      "8\n",
      "4\n",
      "2\n",
      "1\n"
     ]
    }
   ],
   "source": [
    "def collatz(x):\n",
    "   \n",
    "    if(int!=type(x)) or(x<=0):\n",
    "        raise ValueError(\"Enter a positive integer\")\n",
    "    \n",
    "    print(x)\n",
    "\n",
    "    if x == 1:\n",
    "        return\n",
    "    elif x % 2 == 0:\n",
    "        collatz(x // 2)\n",
    "    else:\n",
    "        collatz(3 * x + 1)\n",
    "\n",
    "# Example usage:\n",
    "collatz(10)\n"
   ]
  },
  {
   "cell_type": "markdown",
   "id": "6ba3b2ec",
   "metadata": {},
   "source": [
    "## Question 5\n",
    "\n",
    "Write a recursive method binary() that takes a non-negative\n",
    "integer n and prints the binary representation of integer n."
   ]
  },
  {
   "cell_type": "code",
   "execution_count": 27,
   "id": "797a5ba6",
   "metadata": {},
   "outputs": [
    {
     "name": "stdout",
     "output_type": "stream",
     "text": [
      "The binary for 0 is: 0\n",
      "The binary for 1 is: 1\n",
      "The binary for 3 is: 11\n",
      "The binary for 9 is: 1001\n"
     ]
    }
   ],
   "source": [
    "def binary(digit):\n",
    "    # Check if the input is a non-negative integer\n",
    "    if digit < 0 or type(digit) != int:\n",
    "        raise ValueError(\"Enter a non-negative integer\")\n",
    "    \n",
    "    # Base case: If the digit is greater than 1, recursively call the binary function with digit // 2\n",
    "    if digit > 1:\n",
    "        binary(digit // 2)\n",
    "    \n",
    "    # Print the remainder when the digit is divided by 2 (binary representation)\n",
    "    print(digit % 2, end='')\n",
    "\n",
    "# Print the binary representation of 0\n",
    "print(\"The binary for 0 is: \", end='')\n",
    "binary(0)\n",
    "print()\n",
    "\n",
    "# Print the binary representation of 1\n",
    "print(\"The binary for 1 is: \", end='')\n",
    "binary(1)\n",
    "print()\n",
    "\n",
    "# Print the binary representation of 3\n",
    "print(\"The binary for 3 is: \", end='')\n",
    "binary(3)\n",
    "print()\n",
    "\n",
    "# Print the binary representation of 9\n",
    "print(\"The binary for 9 is: \", end='')\n",
    "binary(9)\n",
    "print()\n"
   ]
  },
  {
   "cell_type": "markdown",
   "id": "af167f29",
   "metadata": {},
   "source": [
    "## Question 6\n",
    "\n",
    "Implement a class named HeadingParser that can be used to parse an HTML\n",
    "document, and retrieve and print all the headings in the document. You should\n",
    "implement your class as a subclass of HTMLParser, defined in Standard Library\n",
    "module html.parser. When fed a string containing HTML code, your class should\n",
    "print the headings, one per line and in the order in which they appear in the\n",
    "document. Each heading should be indented as follows: an h1 heading should have\n",
    "indentation 0, and h2 heading should have indentation 1, etc. Test your\n",
    "implementation using w3c.html.\n",
    ">>> infile = open('w3c.html')\n",
    ">>> content = infile.read()\n",
    ">>> infile.close()\n",
    ">>> hp = HeadingParser()\n",
    ">>> hp.feed(content)\n",
    "W3C Mission\n",
    "Principles\n"
   ]
  },
  {
   "cell_type": "code",
   "execution_count": 35,
   "id": "5da2c118",
   "metadata": {},
   "outputs": [
    {
     "name": "stdout",
     "output_type": "stream",
     "text": [
      "W3C Mission\n",
      " Principles\n"
     ]
    }
   ],
   "source": [
    "from html.parser import HTMLParser\n",
    "\n",
    "class HeadingParser(HTMLParser):\n",
    "    def __init__(self):\n",
    "        # Initialize the HTMLParser base class\n",
    "        HTMLParser.__init__(self)\n",
    "        \n",
    "        # List of heading tags (h1 to h6)\n",
    "        self.heading_tags = ['h1', 'h2', 'h3', 'h4', 'h5', 'h6']\n",
    "        \n",
    "        # Flag to track if the parser is currently inside a heading tag\n",
    "        self.in_heading = False\n",
    "        \n",
    "        # Variable to track the indentation level of the heading\n",
    "        self.tab_count = 0  # Correct attribute name\n",
    "\n",
    "    def handle_starttag(self, tag, attrs):\n",
    "        if tag in self.heading_tags:\n",
    "            # Set the in_heading flag to True to indicate that we are inside a heading\n",
    "            self.in_heading = True\n",
    "            \n",
    "            # Set the indentation level based on the heading tag (e.g., h1 corresponds to 0 tabs, h2 corresponds to 1 tab, and so on)\n",
    "            self.tab_count = int(tag[-1]) - 1\n",
    "\n",
    "    def handle_data(self, data):\n",
    "        if self.in_heading:\n",
    "            # Print the heading data with the appropriate indentation\n",
    "            print(' ' * self.tab_count + data)\n",
    "\n",
    "    def handle_endtag(self, tag):\n",
    "        if tag.startswith('h') and len(tag) == 2 and tag[1].isdigit():\n",
    "            # Reset the in_heading flag when encountering the closing tag of a heading\n",
    "            self.in_heading = False\n",
    "\n",
    "# Example usage:\n",
    "try:\n",
    "    with open('w3c.html', 'r') as infile:\n",
    "        content = infile.read()\n",
    "\n",
    "    # Create an instance of HeadingParser\n",
    "    hp = HeadingParser()\n",
    "\n",
    "    # Feed the HTML content to the parser\n",
    "    hp.feed(content)\n",
    "except FileNotFoundError:\n",
    "    print(\"Error: File 'w3c.html' not found.\")\n",
    "except Exception as e:\n",
    "    print(f\"An error occurred: {e}\")\n"
   ]
  },
  {
   "cell_type": "markdown",
   "id": "0a2dbf8b",
   "metadata": {},
   "source": [
    "## Question 7\n",
    "\n",
    "Implement recursive function webdir() that takes as input: a URL (as a string) and\n",
    "non-negative integers depth and indent. Your function should visit every web\n",
    "page reachable from the starting URL web page in depth clicks or less, and print\n",
    "each web page's URL. As shown below, indentation, specified by indent, should\n",
    "be used to indicate the depth of a URL.\n",
    ">>>\n",
    "webdir('http://reed.cs.depaul.edu/lperkovic/csc242/test1.html'\n",
    ", 2, 0)\n",
    "http://reed.cs.depaul.edu/lperkovic/csc242/test1.html\n",
    " http://reed.cs.depaul.edu/lperkovic/csc242/test2.html\n",
    " http://reed.cs.depaul.edu/lperkovic/csc242/test4.html\n",
    " http://reed.cs.depaul.edu/lperkovic/csc242/test3.html\n",
    " http://reed.cs.depaul.edu/lperkovic/csc242/test4.html"
   ]
  },
  {
   "cell_type": "code",
   "execution_count": 37,
   "id": "51308260",
   "metadata": {},
   "outputs": [
    {
     "name": "stdout",
     "output_type": "stream",
     "text": [
      " http://reed.cs.depaul.edu/lperkovic/csc242/lecture1/\n",
      "\t http://reed.cs.depaul.edu/lperkovic/csc242/lecture1/Ch7.pptx\n",
      "\t http://reed.cs.depaul.edu/lperkovic/csc242/lecture1/caseStudy6/blackjack.py\n",
      "\t http://reed.cs.depaul.edu/lperkovic/csc242/lecture1/emoticon.py\n",
      "\t http://reed.cs.depaul.edu/lperkovic/csc242/lecture1/chapter7.zip\n"
     ]
    }
   ],
   "source": [
    "from urllib.request import urlopen\n",
    "from urllib.parse import urljoin\n",
    "from html.parser import HTMLParser\n",
    "\n",
    "class LinkHTMLParser(HTMLParser):\n",
    "    def __init__(self, base_url):\n",
    "        # Initialize the LinkHTMLParser object\n",
    "        HTMLParser.__init__(self)\n",
    "        \n",
    "        # List to store the extracted links\n",
    "        self.links = []\n",
    "        \n",
    "        # Base URL of the page being parsed\n",
    "        self.base_url = base_url\n",
    "    \n",
    "    def handle_starttag(self, tag, attrs):\n",
    "        # Method called when a start tag is encountered\n",
    "        \n",
    "        # Check if the tag is an anchor tag ('a')\n",
    "        if tag == 'a':\n",
    "            for attr in attrs:\n",
    "                if attr[0] == 'href':\n",
    "                    # Construct the absolute URL by joining the base URL with the href attribute\n",
    "                    absolute_url = urljoin(self.base_url, attr[1].strip())\n",
    "                    \n",
    "                    # Check if the URL starts with 'http'; consider it an absolute URL\n",
    "                    if absolute_url[:4] == 'http':\n",
    "                        self.links.append(absolute_url)\n",
    "    \n",
    "    def get_links(self):\n",
    "        # Method to retrieve the extracted links\n",
    "        return self.links\n",
    "\n",
    "\n",
    "def crawl_website(url: str, depth: int, indent: int, print_url=True):\n",
    "    # Function to crawl a website and print its directory structure\n",
    "    \n",
    "    if print_url:\n",
    "        # If print_url is True, print the current URL with appropriate indentation\n",
    "        print('  ' * indent, url)\n",
    "    \n",
    "    if depth <= 0:\n",
    "        # If depth is 0 or less, stop crawling and return\n",
    "        return\n",
    "    \n",
    "    # Send a request to the URL and retrieve the response\n",
    "    try:\n",
    "        response = urlopen(url)\n",
    "    except Exception as e:\n",
    "        # Handle exceptions, e.g., if the URL is not reachable\n",
    "        print(f\"Error while retrieving page {url}: {e}\")\n",
    "        return\n",
    "    \n",
    "    if response.code != 200:\n",
    "        # Check if there was an error while retrieving the page\n",
    "        print(f\"Error while retrieving page {response.geturl()}, Status Code: {response.code}\")\n",
    "        return\n",
    "    \n",
    "    # Create an instance of LinkHTMLParser and pass the base URL to it\n",
    "    parser = LinkHTMLParser(url)\n",
    "    \n",
    "    # Read the content of the response and decode it\n",
    "    content = response.read().decode('utf-8', errors='ignore')\n",
    "    \n",
    "    # Parse the HTML content\n",
    "    parser.feed(content)\n",
    "    \n",
    "    # Get the extracted links from the parser\n",
    "    links = parser.get_links()\n",
    "    \n",
    "    for link in links:\n",
    "        # Print each link with appropriate indentation\n",
    "        print('  ' * (indent + 1), link)\n",
    "        \n",
    "        # Recursively call crawl_website on each link to crawl further\n",
    "        crawl_website(link, depth - 1, indent + 1, False)\n",
    "        \n",
    "url2 = 'http://reed.cs.depaul.edu/lperkovic/csc242/lecture1/'\n",
    "webdir(url2, 2,0)\n"
   ]
  },
  {
   "cell_type": "markdown",
   "id": "b6bee754",
   "metadata": {},
   "source": [
    "## Question 8\n",
    "\n",
    "Write SQL queries on the below database table that return:\n",
    "a) All the temperature data.\n",
    "b) All the cities, but without repetition.\n",
    "c) All the records for India.\n",
    "d) All the Fall records\n",
    "e) The city, country, and season for which the average rainfall is between 200 and 400 millimeters.\n",
    "f) The city and country for which the average Fall temperature is above 20 degrees, in increasing temperature order.\n",
    "g) The total annual rainfall for Cairo.\n",
    "h) The total rainfall for each season\n",
    "\n",
    "City Country Season Temperature(C) Rainfall(mm)\n",
    "Mumbai India Winter 24.8 5.9\n",
    "Mumbai India Spring 28.4 16.2\n",
    "Mumbai India Summer 27.9 1549.4\n",
    "Mumbai India Fall 27.6 346.0\n",
    "London United Kingdom Winter 4.2 207.7\n",
    "London United Kingdom Spring 8.3 169.6\n",
    "London United Kingdom Summer 15.7 157.0\n",
    "London United Kingdom Fall 10.4 218.5\n",
    "Cairo Egypt Winter 13.6 16.5\n",
    "Cairo Egypt Spring 20.7 6.5\n",
    "Cairo Egypt Summer 27.7 0.1\n",
    "Cairo Egypt Fall 22.2 4.5"
   ]
  },
  {
   "cell_type": "markdown",
   "id": "d8bd3bab",
   "metadata": {},
   "source": [
    "## Answer\n",
    "\n",
    "#### a) All the temperature data.\n",
    "SELECT Temperature_C FROM weather_data;\n",
    "\n",
    "#### b) All the cities, but without repetition.\n",
    "SELECT DISTINCT City FROM weather_data;\n",
    "\n",
    "#### c) All the records for India.\n",
    "SELECT * FROM weather_data WHERE Country = 'India';\n",
    "\n",
    "#### d) All the Fall records.\n",
    "SELECT * FROM weather_data WHERE Season = 'Fall';\n",
    "\n",
    "#### e) The city, country, and season for which the average rainfall is between 200 and 400 millimeters.\n",
    "SELECT City, Country, Season\n",
    "FROM weather_data\n",
    "GROUP BY City, Country, Season\n",
    "HAVING AVG(Rainfall_mm) BETWEEN 200 AND 400;\n",
    "\n",
    "#### f) The city and country for which the average Fall temperature is above 20 degrees, in increasing temperature order.\n",
    "SELECT City, Country\n",
    "FROM weather_data\n",
    "WHERE Season = 'Fall'\n",
    "GROUP BY City, Country\n",
    "HAVING AVG(Temperature_C) > 20\n",
    "ORDER BY AVG(Temperature_C) ASC;\n",
    "\n",
    "#### g) The total annual rainfall for Cairo.\n",
    "SELECT SUM(Rainfall_mm) AS TotalRainfall FROM weather_data WHERE City = 'Cairo';\n",
    "\n",
    "#### h) The total rainfall for each season.\n",
    "SELECT Season, SUM(Rainfall_mm) AS TotalRainfall FROM weather_data GROUP BY Season;\n"
   ]
  },
  {
   "cell_type": "markdown",
   "id": "57b9b092",
   "metadata": {},
   "source": [
    "## Question 9\n",
    "\n",
    "Suppose list words is defined as follows:>>> words = ['The', 'quick', 'brown', 'fox', 'jumps', 'over','the', 'lazy', 'dog']\n",
    "Write list comprehension expressions that use list words and generate the followinglists:\n",
    "\n",
    "a) ['THE', 'QUICK', 'BROWN', 'FOX', 'JUMPS', 'OVER', 'THE','LAZY', 'DOG']\n",
    "\n",
    "b) ['the', 'quick', 'brown', 'fox', 'jumps', 'over', 'the','lazy', 'dog']\n",
    "\n",
    "c) [3, 5, 5, 3, 5, 4, 3, 4, 3] (the list of lengths of words in listwords).\n",
    "\n",
    "d) [['THE', 'the', 3], ['QUICK', 'quick', 5], ['BROWN','brown', 5], ['FOX', 'fox', 3], ['JUMPS', 'jumps', 5],['OVER', 'over', 4], ['THE', 'the', 3], ['LAZY', 'lazy',4], ['DOG', 'dog', 3]] (the list containing a list for every word of listwords, where each list contains the word in uppercase and lowercase and thelength of the word.)\n",
    "\n",
    "e) ['The', 'quick', 'brown', 'fox', 'jumps', 'over', 'the','lazy', 'dog'] (the list of words in list words containing 4 or morecharacters.)"
   ]
  },
  {
   "cell_type": "markdown",
   "id": "c8477e11",
   "metadata": {},
   "source": [
    "## a) Convert all words to uppercase:"
   ]
  },
  {
   "cell_type": "code",
   "execution_count": 7,
   "id": "188c9582",
   "metadata": {},
   "outputs": [
    {
     "name": "stdout",
     "output_type": "stream",
     "text": [
      "['THE', 'QUICK', 'BROWN', 'FOX', 'JUMPS', 'OVER', 'THE', 'LAZY', 'DOG']\n"
     ]
    }
   ],
   "source": [
    "words = ['The', 'quick', 'brown', 'fox', 'jumps', 'over','the', 'lazy', 'dog']\n",
    "partA = [word.upper() for word in words]\n",
    "print(partA)"
   ]
  },
  {
   "cell_type": "markdown",
   "id": "c1fedfc0",
   "metadata": {},
   "source": [
    "## b) Convert all words to lowercase:"
   ]
  },
  {
   "cell_type": "code",
   "execution_count": null,
   "id": "c09511fc",
   "metadata": {},
   "outputs": [],
   "source": [
    "words = ['THE', 'QUICK', 'BROWN', 'FOX', 'JUMPS', 'OVER', 'THE', 'LAZY', 'DOG']\n",
    "partB = [word.lower() for word in words]\n",
    "print(partB)"
   ]
  },
  {
   "cell_type": "markdown",
   "id": "58b09936",
   "metadata": {},
   "source": [
    "## c) Get the lengths of words in the list:\n"
   ]
  },
  {
   "cell_type": "code",
   "execution_count": 8,
   "id": "2b35a6b1",
   "metadata": {},
   "outputs": [
    {
     "name": "stdout",
     "output_type": "stream",
     "text": [
      "[3, 5, 5, 3, 5, 4, 3, 4, 3]\n"
     ]
    }
   ],
   "source": [
    "words = ['the', 'quick', 'brown', 'fox', 'jumps', 'over', 'the', 'lazy', 'dog']\n",
    "partC = [len(word) for word in words]\n",
    "print(partC)\n"
   ]
  },
  {
   "cell_type": "markdown",
   "id": "fe039c67",
   "metadata": {},
   "source": [
    "## d) Create a list containing a sublist for every word, where each sublist contains the word in uppercase, lowercase, and the length of the word:"
   ]
  },
  {
   "cell_type": "code",
   "execution_count": 9,
   "id": "9c753f2a",
   "metadata": {},
   "outputs": [],
   "source": [
    "words = [3, 5, 5, 3, 5, 4, 3, 4, 3]\n",
    "partD = [[word.upper(), word.lower(), len(word)] for word in words]\n",
    "print(partD)"
   ]
  },
  {
   "cell_type": "markdown",
   "id": "6d015e47",
   "metadata": {},
   "source": [
    "## e) Get the list of words containing 4 or more characters:"
   ]
  },
  {
   "cell_type": "code",
   "execution_count": 13,
   "id": "8a6a3e84",
   "metadata": {},
   "outputs": [
    {
     "name": "stdout",
     "output_type": "stream",
     "text": [
      "[]\n"
     ]
    }
   ],
   "source": [
    "words = [['THE', 'the', 3],\n",
    " ['QUICK', 'quick', 5],\n",
    " ['BROWN', 'brown', 5],\n",
    " ['FOX', 'fox', 3],\n",
    " ['JUMPS', 'jumps', 5],\n",
    " ['OVER', 'over', 4],\n",
    " ['THE', 'the', 3],\n",
    " ['LAZY', 'lazy', 4],\n",
    " ['DOG', 'dog', 3]]\n",
    "\n",
    "partE = [word[0] for word in words if len(word[0]) >= 4]\n",
    "print(partE)\n"
   ]
  },
  {
   "cell_type": "code",
   "execution_count": null,
   "id": "e388a666",
   "metadata": {},
   "outputs": [],
   "source": []
  }
 ],
 "metadata": {
  "kernelspec": {
   "display_name": "Python 3 (ipykernel)",
   "language": "python",
   "name": "python3"
  },
  "language_info": {
   "codemirror_mode": {
    "name": "ipython",
    "version": 3
   },
   "file_extension": ".py",
   "mimetype": "text/x-python",
   "name": "python",
   "nbconvert_exporter": "python",
   "pygments_lexer": "ipython3",
   "version": "3.11.4"
  }
 },
 "nbformat": 4,
 "nbformat_minor": 5
}
